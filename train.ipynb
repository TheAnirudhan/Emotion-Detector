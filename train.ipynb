{
 "cells": [
  {
   "cell_type": "code",
   "execution_count": 1,
   "metadata": {},
   "outputs": [],
   "source": [
    "import numpy as np\n",
    "import matplotlib.pyplot as plt\n",
    "import tensorflow as tf\n",
    "import cv2 as cv"
   ]
  },
  {
   "cell_type": "code",
   "execution_count": 2,
   "metadata": {},
   "outputs": [],
   "source": [
    "training_dir = 'images/train'\n",
    "testing_dir  = 'images/validation/'"
   ]
  },
  {
   "cell_type": "code",
   "execution_count": 3,
   "metadata": {},
   "outputs": [],
   "source": [
    "imgSize = (150,150,3)"
   ]
  },
  {
   "cell_type": "code",
   "execution_count": 4,
   "metadata": {},
   "outputs": [
    {
     "name": "stdout",
     "output_type": "stream",
     "text": [
      "Found 28821 files belonging to 7 classes.\n",
      "Found 7066 files belonging to 7 classes.\n"
     ]
    }
   ],
   "source": [
    "\n",
    "trainingSet = tf.keras.preprocessing.image_dataset_from_directory(training_dir,image_size=imgSize[:2],label_mode='categorical')\n",
    "testingSet = tf.keras.preprocessing.image_dataset_from_directory(testing_dir,image_size=imgSize[:2],label_mode='categorical')"
   ]
  },
  {
   "cell_type": "code",
   "execution_count": 5,
   "metadata": {},
   "outputs": [
    {
     "data": {
      "text/plain": [
       "['angry', 'disgust', 'fear', 'happy', 'neutral', 'sad', 'surprise']"
      ]
     },
     "execution_count": 5,
     "metadata": {},
     "output_type": "execute_result"
    }
   ],
   "source": [
    "trainingSet.class_names"
   ]
  },
  {
   "cell_type": "code",
   "execution_count": 6,
   "metadata": {},
   "outputs": [],
   "source": [
    "from tensorflow.keras.models import Sequential\n",
    "from tensorflow.keras.layers import Dense,Conv2D,MaxPool2D,Flatten"
   ]
  },
  {
   "cell_type": "code",
   "execution_count": 7,
   "metadata": {},
   "outputs": [],
   "source": [
    "model = Sequential()\n",
    "\n",
    "model.add(tf.keras.layers.experimental.preprocessing.Rescaling(1./255))\n",
    "\n",
    "model.add(Conv2D(filters=32, kernel_size=(3,3),input_shape=(150,150,3), activation='relu',))\n",
    "model.add(MaxPool2D(pool_size=(2, 2)))\n",
    "\n",
    "model.add(Conv2D(filters=64, kernel_size=(3,3),input_shape=(150,150,3), activation='relu',))\n",
    "model.add(MaxPool2D(pool_size=(2, 2)))\n",
    "\n",
    "model.add(Conv2D(filters=64, kernel_size=(3,3),input_shape=(150,150,3), activation='relu',))\n",
    "model.add(MaxPool2D(pool_size=(2, 2)))\n",
    "\n",
    "model.add(Conv2D(filters=64, kernel_size=(3,3),input_shape=(150,150,3), activation='relu',))\n",
    "model.add(MaxPool2D(pool_size=(2, 2)))\n",
    "\n",
    "model.add(Conv2D(filters=64, kernel_size=(3,3),input_shape=(150,150,3), activation='relu',))\n",
    "model.add(MaxPool2D(pool_size=(2, 2)))\n",
    "\n",
    "\n",
    "model.add(Flatten())\n",
    "\n",
    "\n",
    "model.add(Dense(7,activation='softmax'))\n",
    "\n",
    "model.compile(loss=tf.keras.losses.CategoricalCrossentropy(),\n",
    "                metrics='accuracy')"
   ]
  },
  {
   "cell_type": "code",
   "execution_count": 8,
   "metadata": {},
   "outputs": [
    {
     "name": "stdout",
     "output_type": "stream",
     "text": [
      "Epoch 1/10\n",
      "901/901 [==============================] - 371s 400ms/step - loss: 1.7706 - accuracy: 0.2771 - val_loss: 1.6194 - val_accuracy: 0.3624\n",
      "Epoch 2/10\n",
      "901/901 [==============================] - 143s 158ms/step - loss: 1.5151 - accuracy: 0.4156 - val_loss: 1.4491 - val_accuracy: 0.4495\n",
      "Epoch 3/10\n",
      "901/901 [==============================] - 142s 158ms/step - loss: 1.3552 - accuracy: 0.4849 - val_loss: 1.3662 - val_accuracy: 0.4837\n",
      "Epoch 4/10\n",
      "901/901 [==============================] - 142s 157ms/step - loss: 1.2552 - accuracy: 0.5274 - val_loss: 1.2955 - val_accuracy: 0.5161\n",
      "Epoch 5/10\n",
      "901/901 [==============================] - 142s 158ms/step - loss: 1.1827 - accuracy: 0.5536 - val_loss: 1.2679 - val_accuracy: 0.5342\n",
      "Epoch 6/10\n",
      "901/901 [==============================] - 142s 158ms/step - loss: 1.1248 - accuracy: 0.5773 - val_loss: 1.3043 - val_accuracy: 0.5095\n",
      "Epoch 7/10\n",
      "901/901 [==============================] - 142s 158ms/step - loss: 1.0690 - accuracy: 0.5967 - val_loss: 1.2668 - val_accuracy: 0.5292\n",
      "Epoch 8/10\n",
      "901/901 [==============================] - 143s 159ms/step - loss: 1.0177 - accuracy: 0.6207 - val_loss: 1.2644 - val_accuracy: 0.5362\n",
      "Epoch 9/10\n",
      "901/901 [==============================] - 142s 158ms/step - loss: 0.9599 - accuracy: 0.6455 - val_loss: 1.3023 - val_accuracy: 0.5436\n",
      "Epoch 10/10\n",
      "901/901 [==============================] - 142s 157ms/step - loss: 0.9106 - accuracy: 0.6646 - val_loss: 1.3980 - val_accuracy: 0.5248\n"
     ]
    },
    {
     "data": {
      "text/plain": [
       "<keras.callbacks.History at 0x203b92aad60>"
      ]
     },
     "execution_count": 8,
     "metadata": {},
     "output_type": "execute_result"
    }
   ],
   "source": [
    "model.fit(trainingSet,\n",
    "             epochs=10,\n",
    "             steps_per_epoch=len(trainingSet),\n",
    "             validation_data=testingSet,\n",
    "             validation_steps=len(testingSet))"
   ]
  },
  {
   "cell_type": "code",
   "execution_count": 9,
   "metadata": {},
   "outputs": [],
   "source": [
    "model.save('trained weights 1.h5')"
   ]
  },
  {
   "cell_type": "code",
   "execution_count": 4,
   "metadata": {},
   "outputs": [],
   "source": [
    "model = tf.keras.models.load_model(\"trained weights 1.h5\")"
   ]
  },
  {
   "cell_type": "code",
   "execution_count": 21,
   "metadata": {},
   "outputs": [
    {
     "name": "stdout",
     "output_type": "stream",
     "text": [
      "Model: \"sequential\"\n",
      "_________________________________________________________________\n",
      "Layer (type)                 Output Shape              Param #   \n",
      "=================================================================\n",
      "rescaling (Rescaling)        (None, 150, 150, 3)       0         \n",
      "_________________________________________________________________\n",
      "conv2d (Conv2D)              (None, 148, 148, 32)      896       \n",
      "_________________________________________________________________\n",
      "max_pooling2d (MaxPooling2D) (None, 74, 74, 32)        0         \n",
      "_________________________________________________________________\n",
      "conv2d_1 (Conv2D)            (None, 72, 72, 64)        18496     \n",
      "_________________________________________________________________\n",
      "max_pooling2d_1 (MaxPooling2 (None, 36, 36, 64)        0         \n",
      "_________________________________________________________________\n",
      "conv2d_2 (Conv2D)            (None, 34, 34, 64)        36928     \n",
      "_________________________________________________________________\n",
      "max_pooling2d_2 (MaxPooling2 (None, 17, 17, 64)        0         \n",
      "_________________________________________________________________\n",
      "conv2d_3 (Conv2D)            (None, 15, 15, 64)        36928     \n",
      "_________________________________________________________________\n",
      "max_pooling2d_3 (MaxPooling2 (None, 7, 7, 64)          0         \n",
      "_________________________________________________________________\n",
      "conv2d_4 (Conv2D)            (None, 5, 5, 64)          36928     \n",
      "_________________________________________________________________\n",
      "max_pooling2d_4 (MaxPooling2 (None, 2, 2, 64)          0         \n",
      "_________________________________________________________________\n",
      "flatten (Flatten)            (None, 256)               0         \n",
      "_________________________________________________________________\n",
      "dense (Dense)                (None, 7)                 1799      \n",
      "=================================================================\n",
      "Total params: 131,975\n",
      "Trainable params: 131,975\n",
      "Non-trainable params: 0\n",
      "_________________________________________________________________\n"
     ]
    }
   ],
   "source": [
    "model.summary()"
   ]
  },
  {
   "cell_type": "code",
   "execution_count": 15,
   "metadata": {},
   "outputs": [],
   "source": [
    "face_cascade = cv.CascadeClassifier('haarcascade_frontalface_default.xml')"
   ]
  },
  {
   "cell_type": "code",
   "execution_count": 36,
   "metadata": {},
   "outputs": [],
   "source": [
    "def predict_emotion(img):\n",
    "    gray = cv.cvtColor(img, cv.COLOR_BGR2GRAY)\n",
    "    faces = face_cascade.detectMultiScale(gray,1.3,5)\n",
    "            \n",
    "    for (x,y,w,h) in faces:\n",
    "        roi = np.expand_dims(cv.resize(frame[y:y+h, x:x+w], (150,150)),0)\n",
    "        pred  = model.predict(roi)\n",
    "        text_idx=np.argmax(pred)\n",
    "        text_list = ['Angry', 'Disgust', 'Fear', 'Happy', 'Neutral', 'Sad', 'Surprise']\n",
    "        if text_idx == 0:\n",
    "            text= text_list[0]\n",
    "        if text_idx == 1:\n",
    "            text= text_list[1]\n",
    "        elif text_idx == 2:\n",
    "            text= text_list[2]\n",
    "        elif text_idx == 3:\n",
    "            text= text_list[3]\n",
    "        elif text_idx == 4:\n",
    "            text= text_list[4]\n",
    "        elif text_idx == 5:\n",
    "            text= text_list[5]\n",
    "        elif text_idx == 6:\n",
    "            text= text_list[6]\n",
    "        \n",
    "        return(text)"
   ]
  },
  {
   "cell_type": "code",
   "execution_count": 38,
   "metadata": {},
   "outputs": [],
   "source": [
    "cap = cv.VideoCapture(0)\n",
    "\n",
    "while True:\n",
    "    ret,frame = cap.read()\n",
    "    if ret:\n",
    "        gray = cv.cvtColor(frame, cv.COLOR_BGR2GRAY)\n",
    "        faces = face_cascade.detectMultiScale(gray,1.3,5)\n",
    "        for (x,y,w,h) in faces:\n",
    "            text = predict_emotion(frame)\n",
    "            cv.rectangle(frame,(x,y),(x+w,y+h),(0,255,0),5)\n",
    "            cv.putText(frame, text, (x, y-5),\n",
    "                                cv.FONT_HERSHEY_SIMPLEX, 1, (0, 0, 255),2)\n",
    "        cv.imshow(\"Face\",frame)\n",
    "\n",
    "    if cv.waitKey(10) == 27: break\n",
    "cap.release()\n",
    "cv.destroyAllWindows()\n"
   ]
  },
  {
   "cell_type": "code",
   "execution_count": null,
   "metadata": {},
   "outputs": [],
   "source": []
  }
 ],
 "metadata": {
  "interpreter": {
   "hash": "188f2a62e170d3d1440ac5eb8613c963f2f65a25d56b239f92c231fea531078a"
  },
  "kernelspec": {
   "display_name": "Python 3.8.8 64-bit ('base': conda)",
   "name": "python3"
  },
  "language_info": {
   "codemirror_mode": {
    "name": "ipython",
    "version": 3
   },
   "file_extension": ".py",
   "mimetype": "text/x-python",
   "name": "python",
   "nbconvert_exporter": "python",
   "pygments_lexer": "ipython3",
   "version": "3.8.8"
  },
  "orig_nbformat": 4
 },
 "nbformat": 4,
 "nbformat_minor": 2
}
